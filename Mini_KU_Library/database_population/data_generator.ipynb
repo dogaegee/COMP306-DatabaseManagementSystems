{
 "cells": [
  {
   "cell_type": "code",
   "execution_count": 1,
   "id": "76d303c5",
   "metadata": {},
   "outputs": [],
   "source": [
    "import mysql.connector\n",
    "\n",
    "import matplotlib.pyplot as plt\n",
    "import seaborn as sns\n",
    "import csv\n",
    "\n",
    "%matplotlib inline"
   ]
  },
  {
   "cell_type": "code",
   "execution_count": 2,
   "id": "b799bf83",
   "metadata": {},
   "outputs": [
    {
     "name": "stdout",
     "output_type": "stream",
     "text": [
      "<mysql.connector.connection_cext.CMySQLConnection object at 0x0000022AFDEE2D90>\n"
     ]
    }
   ],
   "source": [
    "db_connection = mysql.connector.connect(\n",
    "  host=\"localhost\",\n",
    "  user=\"root\",\n",
    "  passwd=\"\", # change password\n",
    "  auth_plugin='mysql_native_password'\n",
    ")\n",
    "print(db_connection)"
   ]
  },
  {
   "cell_type": "code",
   "execution_count": 3,
   "id": "58d985e0",
   "metadata": {},
   "outputs": [],
   "source": [
    "db_cursor = db_connection.cursor(buffered=True)"
   ]
  },
  {
   "cell_type": "code",
   "execution_count": 4,
   "id": "0a7786a7",
   "metadata": {},
   "outputs": [],
   "source": [
    "db_cursor.execute(\"CREATE DATABASE library_database\")"
   ]
  },
  {
   "cell_type": "code",
   "execution_count": 5,
   "id": "fa68f04b",
   "metadata": {},
   "outputs": [],
   "source": [
    "db_cursor.execute(\"USE library_database\")"
   ]
  },
  {
   "cell_type": "code",
   "execution_count": 6,
   "id": "916f9543",
   "metadata": {},
   "outputs": [],
   "source": [
    "def populate_table(db_connection, db_cursor, insert_query, file_path):\n",
    "    \n",
    "    with open(file_path, mode='r') as csv_data:\n",
    "        reader = csv.reader(csv_data, delimiter=';')\n",
    "        csv_data_list = list(reader)\n",
    "        for row in csv_data_list[1:]:\n",
    "            row = tuple(map(lambda x: None if x == \"\" else x, row[0].split(',')))\n",
    "            db_cursor.execute(insert_query, row)\n",
    "        \n",
    "    db_connection.commit()"
   ]
  },
  {
   "cell_type": "code",
   "execution_count": 7,
   "id": "a814eaa2",
   "metadata": {},
   "outputs": [],
   "source": [
    "db_cursor.execute(\"\"\"CREATE TABLE MEMBER (member_ID INTEGER,\n",
    "                                    fee INTEGER,\n",
    "                                    fname VARCHAR(50),\n",
    "                                    lname VARCHAR(50),\n",
    "                                    PRIMARY KEY (member_ID))\"\"\")\n",
    "insert_member = (\n",
    "    \"INSERT INTO MEMBER(member_ID, fee, fname, lname) \"\n",
    "    \"VALUES (%s, %s, %s, %s)\"\n",
    ")\n",
    "populate_table(db_connection, db_cursor, insert_member, \"Member.csv\")"
   ]
  },
  {
   "cell_type": "code",
   "execution_count": 8,
   "id": "0c9a33a2",
   "metadata": {},
   "outputs": [],
   "source": [
    "db_cursor.execute(\"\"\"CREATE TABLE Academic_staff (member_ID INTEGER,\n",
    "                                        PRIMARY KEY (member_ID),\n",
    "                                        FOREIGN KEY (member_ID) REFERENCES Member(member_ID))\"\"\")\n"
   ]
  },
  {
   "cell_type": "code",
   "execution_count": 9,
   "id": "a8c50cd5",
   "metadata": {},
   "outputs": [],
   "source": [
    "insert_academic_staff = (\n",
    "    \"INSERT INTO Academic_staff(member_ID) \"\n",
    "    \"VALUES (%s)\"\n",
    ")\n",
    "populate_table(db_connection, db_cursor, insert_academic_staff, \"Academic_staff.csv\")"
   ]
  },
  {
   "cell_type": "code",
   "execution_count": 10,
   "id": "08832d71",
   "metadata": {},
   "outputs": [],
   "source": [
    "db_cursor.execute(\"\"\"CREATE TABLE Alumni (member_ID INTEGER,\n",
    "                                    grad_year INTEGER,\n",
    "                                    PRIMARY KEY (member_ID),\n",
    "                                    FOREIGN KEY (member_ID) REFERENCES Member(member_ID))\"\"\")"
   ]
  },
  {
   "cell_type": "code",
   "execution_count": 11,
   "id": "530bd733",
   "metadata": {},
   "outputs": [],
   "source": [
    "insert_alumni = (\n",
    "    \"INSERT INTO Alumni(member_ID, grad_year) \"\n",
    "    \"VALUES (%s, %s)\"\n",
    ")\n",
    "populate_table(db_connection, db_cursor, insert_alumni, \"Alumni.csv\")"
   ]
  },
  {
   "cell_type": "code",
   "execution_count": 12,
   "id": "becf4606",
   "metadata": {},
   "outputs": [],
   "source": [
    "db_cursor.execute(\"\"\"CREATE TABLE LIBRARY (library_ID INTEGER,\n",
    "                                        location VARCHAR(100),\n",
    "                                        name VARCHAR(10),\n",
    "                                        PRIMARY KEY (library_id))\"\"\")"
   ]
  },
  {
   "cell_type": "code",
   "execution_count": 13,
   "id": "fe58b94c",
   "metadata": {},
   "outputs": [],
   "source": [
    "insert_library = (\n",
    "    \"INSERT INTO Library(library_ID, location, name) \"\n",
    "    \"VALUES (%s, %s, %s)\"\n",
    ")\n",
    "populate_table(db_connection, db_cursor, insert_library, \"Library.csv\")"
   ]
  },
  {
   "cell_type": "code",
   "execution_count": 14,
   "id": "09a54424",
   "metadata": {},
   "outputs": [],
   "source": [
    "db_cursor.execute(\"\"\"DROP TABLE IF EXISTS `Family_Member`\"\"\")"
   ]
  },
  {
   "cell_type": "code",
   "execution_count": 15,
   "id": "8c329a57",
   "metadata": {},
   "outputs": [],
   "source": [
    "\n",
    "db_cursor.execute(\"\"\"CREATE TABLE Family_Member (member_ID INTEGER,\n",
    "                                        fname VARCHAR(30),\n",
    "                                        lname VARCHAR(30),\n",
    "                                        PRIMARY KEY (member_ID, fname, lname),\n",
    "                                        FOREIGN KEY (member_ID) REFERENCES Academic_staff(member_ID))\"\"\")"
   ]
  },
  {
   "cell_type": "code",
   "execution_count": 16,
   "id": "72cf9981",
   "metadata": {},
   "outputs": [],
   "source": [
    "insert_familymember = (\n",
    "    \"INSERT INTO Family_Member(member_ID, fname, lname)\"\n",
    "    \"VALUES (%s, %s, %s)\"\n",
    ")\n",
    "\n",
    "populate_table(db_connection, db_cursor, insert_familymember, \"Family_Member.csv\")"
   ]
  },
  {
   "cell_type": "code",
   "execution_count": 17,
   "id": "acd5f30c",
   "metadata": {},
   "outputs": [],
   "source": [
    "db_cursor.execute(\"\"\"DROP TABLE IF EXISTS `Librarian`\"\"\")\n",
    "db_cursor.execute(\"\"\"CREATE TABLE Librarian (librarian_ID INTEGER,\n",
    "                                            fname VARCHAR(30),\n",
    "                                            lname VARCHAR(30),\n",
    "                                            library_ID INTEGER,\n",
    "                                            supervisor_ID INTEGER,\n",
    "                                            start_date DATE,\n",
    "                                            end_date DATE,\n",
    "                                            hours INTEGER,\n",
    "                                            PRIMARY KEY (librarian_ID),\n",
    "                                            FOREIGN KEY (supervisor_ID) REFERENCES Librarian(librarian_ID),\n",
    "                                            FOREIGN KEY (library_ID) REFERENCES Library(library_ID))\"\"\")\n"
   ]
  },
  {
   "cell_type": "code",
   "execution_count": 18,
   "id": "5fc38d60",
   "metadata": {},
   "outputs": [],
   "source": [
    "insert_librarian = (\n",
    "    \"INSERT INTO Librarian(librarian_ID, fname, lname, library_ID, supervisor_ID, start_date, end_date, hours)\"\n",
    "    \"VALUES (%s, %s, %s, %s, %s, %s, %s, %s)\"\n",
    ")\n",
    "populate_table(db_connection, db_cursor, insert_librarian, \"Librarian.csv\")"
   ]
  },
  {
   "cell_type": "code",
   "execution_count": 19,
   "id": "c630fb8f",
   "metadata": {},
   "outputs": [],
   "source": [
    "db_cursor.execute(\"\"\"DROP TABLE IF EXISTS `Student`\"\"\")\n",
    "db_cursor.execute(\"\"\"CREATE TABLE Student (member_ID INTEGER,\n",
    "                                            study_level VARCHAR(50),\n",
    "                                            library_ID INTEGER,\n",
    "                                            end_date DATE,\n",
    "                                            start_date DATE,\n",
    "                                            work_hours INTEGER,\n",
    "                                            PRIMARY KEY (member_ID),\n",
    "                                            FOREIGN KEY (member_ID) REFERENCES Member(member_ID),\n",
    "                                            FOREIGN KEY (library_ID) REFERENCES Library(library_ID))\"\"\")"
   ]
  },
  {
   "cell_type": "code",
   "execution_count": 20,
   "id": "a552ada9",
   "metadata": {},
   "outputs": [],
   "source": [
    "insert_student = (\n",
    "    \"INSERT INTO Student(member_ID, study_level, library_ID, end_date, start_date, work_hours) \"\n",
    "    \"VALUES (%s, %s, %s, %s, %s, %s)\"\n",
    ")\n",
    "\n",
    "populate_table(db_connection, db_cursor, insert_student, \"Student.csv\")"
   ]
  },
  {
   "cell_type": "code",
   "execution_count": 21,
   "id": "de9f7fd9",
   "metadata": {},
   "outputs": [],
   "source": [
    "db_cursor.execute(\"\"\"DROP TABLE IF EXISTS `Utilities`\"\"\")\n",
    "db_cursor.execute(\"\"\"CREATE TABLE Utilities (utility_ID INTEGER,\n",
    "                                                availability VARCHAR(30),\n",
    "                                                library_ID INTEGER,\n",
    "                                                PRIMARY KEY (utility_ID),\n",
    "                                                FOREIGN KEY (library_ID) REFERENCES Library(library_ID))\"\"\")\n",
    "insert_utilities = (\n",
    "    \"INSERT INTO Utilities(utility_ID, availability, library_ID)\"\n",
    "    \"VALUES (%s, %s, %s)\"\n",
    ")\n",
    "populate_table(db_connection, db_cursor, insert_utilities, \"Utilities.csv\")"
   ]
  },
  {
   "cell_type": "code",
   "execution_count": 22,
   "id": "05d7b530",
   "metadata": {},
   "outputs": [],
   "source": [
    "db_cursor.execute(\"\"\"DROP TABLE IF EXISTS `Study_room`\"\"\")\n",
    "db_cursor.execute(\"\"\"CREATE TABLE Study_room (utility_ID INTEGER,\n",
    "                                            floor INTEGER,\n",
    "                                            capacity INTEGER,\n",
    "                                            tv BOOLEAN,\n",
    "                                            board BOOLEAN,\n",
    "                                            PRIMARY KEY (utility_ID),\n",
    "                                            FOREIGN KEY (utility_ID) REFERENCES Utilities(utility_ID))\"\"\")\n"
   ]
  },
  {
   "cell_type": "code",
   "execution_count": 23,
   "id": "671c7908",
   "metadata": {},
   "outputs": [],
   "source": [
    "insert_studyroom = (\n",
    "    \"INSERT INTO Study_room(utility_ID, floor, capacity, tv, board) \"\n",
    "    \"VALUES (%s, %s, %s, %s, %s)\"\n",
    ")\n",
    "\n",
    "populate_table(db_connection, db_cursor, insert_studyroom, \"Study_room.csv\")"
   ]
  },
  {
   "cell_type": "code",
   "execution_count": 24,
   "id": "db60cfe1",
   "metadata": {},
   "outputs": [],
   "source": [
    "db_cursor.execute(\"\"\"DROP TABLE IF EXISTS `Printer`\"\"\")\n",
    "db_cursor.execute(\"\"\"CREATE TABLE Printer (utility_ID INTEGER,\n",
    "                                                remaining_cartage INTEGER,\n",
    "                                                PRIMARY KEY (utility_ID),\n",
    "                                                FOREIGN KEY (utility_ID) REFERENCES Utilities(utility_ID))\"\"\")"
   ]
  },
  {
   "cell_type": "code",
   "execution_count": 25,
   "id": "94aa6ebe",
   "metadata": {},
   "outputs": [],
   "source": [
    "insert_printer = (\n",
    "    \"INSERT INTO Printer(utility_ID, remaining_cartage)\"\n",
    "    \"VALUES (%s, %s)\"\n",
    ")\n",
    "populate_table(db_connection, db_cursor, insert_printer, \"Printer.csv\")"
   ]
  },
  {
   "cell_type": "code",
   "execution_count": 26,
   "id": "1c41ac81",
   "metadata": {},
   "outputs": [],
   "source": [
    "db_cursor.execute(\"\"\"DROP TABLE IF EXISTS `Uses`\"\"\")\n",
    "db_cursor.execute(\"\"\"CREATE TABLE Uses (s_member_ID INTEGER,\n",
    "                                        utility_ID INTEGER,\n",
    "                                        PRIMARY KEY (s_member_ID, utility_ID),\n",
    "                                        FOREIGN KEY (s_member_ID) REFERENCES Student(member_ID),\n",
    "                                        FOREIGN KEY (utility_ID) REFERENCES Utilities(utility_ID))\"\"\")"
   ]
  },
  {
   "cell_type": "code",
   "execution_count": 27,
   "id": "87c86c18",
   "metadata": {},
   "outputs": [],
   "source": [
    "insert_uses = (\n",
    "    \"INSERT INTO Uses(s_member_ID, utility_ID)\"\n",
    "    \"VALUES (%s, %s)\"\n",
    ")\n",
    "populate_table(db_connection, db_cursor, insert_uses, \"Uses.csv\")"
   ]
  },
  {
   "cell_type": "code",
   "execution_count": 28,
   "id": "8a98d517",
   "metadata": {
    "scrolled": false
   },
   "outputs": [],
   "source": [
    "db_cursor.execute(\"\"\"DROP TABLE IF EXISTS `BOOK`\"\"\")\n",
    "db_cursor.execute(\"\"\"CREATE TABLE BOOK (book_ID INTEGER,\n",
    "                                        member_ID INTEGER,\n",
    "                                        library_ID INTEGER,\n",
    "                                        isbn BIGINT,\n",
    "                                        title VARCHAR(300),\n",
    "                                        floor_no INTEGER,\n",
    "                                        librarian_ID INTEGER,\n",
    "                                        language VARCHAR(30),\n",
    "                                        ratings_count INTEGER,\n",
    "                                        publication_date Date,\n",
    "                                        publisher VARCHAR(100),\n",
    "                                        page_number INTEGER, \n",
    "                                        rating DOUBLE,\n",
    "                                        borrow_duration INTEGER,\n",
    "                                        PRIMARY KEY(book_ID, isbn),\n",
    "                                        FOREIGN KEY (librarian_ID) REFERENCES Librarian(librarian_ID),\n",
    "                                        FOREIGN KEY (member_ID) REFERENCES Member(member_ID ),\n",
    "                                        FOREIGN KEY (library_ID) REFERENCES Library(library_ID))\"\"\")\n"
   ]
  },
  {
   "cell_type": "code",
   "execution_count": 29,
   "id": "e137be28",
   "metadata": {},
   "outputs": [],
   "source": [
    "insert_book = (\n",
    "    \"INSERT INTO BOOK(book_ID, member_ID, library_ID, isbn, title, floor_no, librarian_ID, language, ratings_count, publication_date, publisher, page_number, rating, borrow_duration) \"\n",
    "    \"VALUES (%s, %s, %s, %s, %s, %s, %s, %s, %s, %s, %s, %s, %s, %s)\"\n",
    ")\n",
    "\n",
    "populate_table(db_connection, db_cursor, insert_book, \"Books.csv\")"
   ]
  },
  {
   "cell_type": "code",
   "execution_count": 30,
   "id": "62ce3a6d",
   "metadata": {},
   "outputs": [],
   "source": [
    "db_cursor.execute(\"\"\"DROP TABLE IF EXISTS `Suggests`\"\"\")\n",
    "db_cursor.execute(\"\"\"CREATE TABLE Suggests (book_ID INTEGER,\n",
    "                                            member_ID INTEGER,\n",
    "                                            FOREIGN KEY (book_ID) REFERENCES Book(book_ID),\n",
    "                                            FOREIGN KEY (member_ID) REFERENCES Member(member_ID),\n",
    "                                            PRIMARY KEY (book_ID, member_ID))\"\"\")"
   ]
  },
  {
   "cell_type": "code",
   "execution_count": 31,
   "id": "b1badfc4",
   "metadata": {},
   "outputs": [],
   "source": [
    "insert_suggests = (\n",
    "    \"INSERT INTO Suggests(book_ID, member_ID)\"\n",
    "    \"VALUES (%s, %s)\"\n",
    ")\n",
    "populate_table(db_connection, db_cursor, insert_suggests, \"Suggests.csv\")"
   ]
  },
  {
   "cell_type": "code",
   "execution_count": 32,
   "id": "8a0ad2ed",
   "metadata": {},
   "outputs": [],
   "source": [
    "db_cursor.execute(\"\"\"DROP TABLE IF EXISTS `Author`\"\"\")\n",
    "db_cursor.execute(\"\"\"CREATE TABLE Author (book_ID INTEGER,\n",
    "                                            authorName VARCHAR(120),\n",
    "                                            PRIMARY KEY (book_ID, authorName),\n",
    "                                            FOREIGN KEY (book_ID) REFERENCES Book(book_ID))\"\"\")"
   ]
  },
  {
   "cell_type": "code",
   "execution_count": 33,
   "id": "fd7acee4",
   "metadata": {},
   "outputs": [],
   "source": [
    "insert_author = (\n",
    "    \"INSERT INTO Author(book_ID, authorName) \"\n",
    "    \"VALUES (%s, %s)\"\n",
    ")\n",
    "populate_table(db_connection, db_cursor, insert_author, \"Author.csv\")"
   ]
  },
  {
   "cell_type": "code",
   "execution_count": null,
   "id": "10841f65",
   "metadata": {},
   "outputs": [],
   "source": []
  },
  {
   "cell_type": "code",
   "execution_count": null,
   "id": "88df73a0",
   "metadata": {},
   "outputs": [],
   "source": []
  }
 ],
 "metadata": {
  "kernelspec": {
   "display_name": "Python 3",
   "language": "python",
   "name": "python3"
  },
  "language_info": {
   "codemirror_mode": {
    "name": "ipython",
    "version": 3
   },
   "file_extension": ".py",
   "mimetype": "text/x-python",
   "name": "python",
   "nbconvert_exporter": "python",
   "pygments_lexer": "ipython3",
   "version": "3.8.8"
  }
 },
 "nbformat": 4,
 "nbformat_minor": 5
}
